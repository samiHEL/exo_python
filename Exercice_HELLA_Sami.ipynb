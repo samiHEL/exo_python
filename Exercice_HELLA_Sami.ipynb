{
  "nbformat": 4,
  "nbformat_minor": 0,
  "metadata": {
    "colab": {
      "provenance": [],
      "collapsed_sections": [],
      "authorship_tag": "ABX9TyNvjmbSFAS5L9VbcYoVJEt+",
      "include_colab_link": true
    },
    "kernelspec": {
      "name": "python3",
      "display_name": "Python 3"
    },
    "language_info": {
      "name": "python"
    }
  },
  "cells": [
    {
      "cell_type": "markdown",
      "metadata": {
        "id": "view-in-github",
        "colab_type": "text"
      },
      "source": [
        "<a href=\"https://colab.research.google.com/github/samiHEL/exo_python/blob/main/Exercice_HELLA_Sami.ipynb\" target=\"_parent\"><img src=\"https://colab.research.google.com/assets/colab-badge.svg\" alt=\"Open In Colab\"/></a>"
      ]
    },
    {
      "cell_type": "markdown",
      "source": [
        "Exo 2.1"
      ],
      "metadata": {
        "id": "Wys99Pff2pMc"
      }
    },
    {
      "cell_type": "code",
      "execution_count": null,
      "metadata": {
        "colab": {
          "base_uri": "https://localhost:8080/"
        },
        "id": "I2VziKkh2QL3",
        "outputId": "647d1746-32d3-4b1d-cce4-8eeed4aad4a6"
      },
      "outputs": [
        {
          "output_type": "stream",
          "name": "stdout",
          "text": [
            "Entrez le premier chiffre: 3\n",
            "Entrez le deuxieme chiffre : 5\n",
            "produit positif\n"
          ]
        }
      ],
      "source": [
        "# exo 2.1\n",
        "nb1=int(input('Entrez le premier chiffre: '))\n",
        "nb2=int(input('Entrez le deuxieme chiffre : '))\n",
        "def produit(nb1,nb2):\n",
        "    if nb1<0 or nb2<0:\n",
        "        print(\"produit negatif\")\n",
        "    else:\n",
        "        print(\"produit positif\")\n",
        "produit(nb1,nb2)"
      ]
    },
    {
      "cell_type": "markdown",
      "source": [
        "\n",
        "Exo 2.2\n"
      ],
      "metadata": {
        "id": "ybfCxpjj2xH7"
      }
    },
    {
      "cell_type": "code",
      "source": [
        "# exo 2.2\n",
        "nb=int(input('Entrez le premier chiffre: '))\n",
        "def additivite(nb):\n",
        "    result=(nb*(nb+1))/2\n",
        "    print(result)\n",
        "additivite(nb)\n"
      ],
      "metadata": {
        "colab": {
          "base_uri": "https://localhost:8080/"
        },
        "id": "-8A5HmgK25NF",
        "outputId": "2a9a6dc6-15ce-47d4-fa73-bf20d15ec3f9"
      },
      "execution_count": null,
      "outputs": [
        {
          "output_type": "stream",
          "name": "stdout",
          "text": [
            "Entrez le premier chiffre: 8\n",
            "36.0\n"
          ]
        }
      ]
    },
    {
      "cell_type": "markdown",
      "source": [
        "Exo 2.3"
      ],
      "metadata": {
        "id": "OfUTm2oo2-4G"
      }
    },
    {
      "cell_type": "code",
      "source": [
        "# exo 2.3\n",
        "tab=[2,2,3,4,5]\n",
        "\n",
        "def somme(tab):\n",
        "    result=0\n",
        "    for i in range(len(tab)):\n",
        "        result=result+tab[i]\n",
        "    print(result)\n",
        "somme(tab)\n",
        "sum(tab)"
      ],
      "metadata": {
        "colab": {
          "base_uri": "https://localhost:8080/"
        },
        "id": "IFMXOM353BRT",
        "outputId": "18128d36-40a2-44cb-a775-2a430993522b"
      },
      "execution_count": null,
      "outputs": [
        {
          "output_type": "stream",
          "name": "stdout",
          "text": [
            "16\n"
          ]
        },
        {
          "output_type": "execute_result",
          "data": {
            "text/plain": [
              "16"
            ]
          },
          "metadata": {},
          "execution_count": 6
        }
      ]
    },
    {
      "cell_type": "markdown",
      "source": [
        "Exo 2.4"
      ],
      "metadata": {
        "id": "usayAZu-3JqE"
      }
    },
    {
      "cell_type": "code",
      "source": [
        "# exo 2.4\n",
        "tab=[2,4,5,6]\n",
        "tab2=[3,5,7,2]\n",
        "\n",
        "def somme2(tab,tab2):\n",
        "    total=0\n",
        "    for i in range(len(tab)):\n",
        "        for j in range(len(tab2)):\n",
        "          total=total+(tab[i]*tab[j])\n",
        "    print(total)\n",
        "somme2(tab,tab2)"
      ],
      "metadata": {
        "colab": {
          "base_uri": "https://localhost:8080/"
        },
        "id": "8wPiGmH03LUj",
        "outputId": "c73a6165-66f0-4e60-da31-23a129349183"
      },
      "execution_count": null,
      "outputs": [
        {
          "output_type": "stream",
          "name": "stdout",
          "text": [
            "289\n"
          ]
        }
      ]
    },
    {
      "cell_type": "markdown",
      "source": [
        "Exo 2.5"
      ],
      "metadata": {
        "id": "6Vd1aqhQ33sP"
      }
    },
    {
      "cell_type": "code",
      "source": [
        "# exo 2.5\n",
        "\n",
        "tab=[]\n",
        "nb1=int(input('taille du tableau  : '))\n",
        "for i in range(nb1):\n",
        "    nb=int(input('Entrez un chiffre: '))\n",
        "    tab.append(nb)\n",
        "    for j in range(len(tab)):\n",
        "        maxx=max(tab)\n",
        "        if tab[j] == maxx:\n",
        "            print(\"indice : \"+str(j)+\" 1valeur max : \"+ str(maxx))"
      ],
      "metadata": {
        "colab": {
          "base_uri": "https://localhost:8080/"
        },
        "id": "HIVt2Lpo35Wi",
        "outputId": "6edf31c3-2af0-475f-b13a-28b7da7917c1"
      },
      "execution_count": null,
      "outputs": [
        {
          "output_type": "stream",
          "name": "stdout",
          "text": [
            "taille du tableau  : 3\n",
            "Entrez un chiffre: 2\n",
            "indice : 0 valeur max : 2\n",
            "Entrez un chiffre: 7\n",
            "indice : 1 valeur max : 7\n",
            "Entrez un chiffre: 10\n",
            "indice : 2 valeur max : 10\n"
          ]
        }
      ]
    },
    {
      "cell_type": "markdown",
      "source": [
        "Exo 2.6"
      ],
      "metadata": {
        "id": "DwcgUNv26lE3"
      }
    },
    {
      "cell_type": "code",
      "source": [
        "tab=[]\n",
        "nb1=int(input('taille du tableau  : '))\n",
        "for i in range(nb1):\n",
        "    nb=int(input('Entrez un chiffre: '))\n",
        "    tab.append(nb)\n",
        "somme=0\n",
        "for j in tab:\n",
        "    somme += j\n",
        "\n",
        "moyenne = somme / nb1\n",
        "\n",
        "resultat = 0\n",
        "\n",
        "for k in tab:\n",
        "    if k > moyenne:\n",
        "        resultat=resultat + k\n",
        "print(\"moyennne de : \"+str(moyenne)+ \" plus grande valeur :\" +str(resultat))"
      ],
      "metadata": {
        "colab": {
          "base_uri": "https://localhost:8080/"
        },
        "id": "osB_2gG86mv1",
        "outputId": "97d264f2-efb8-47e4-e928-d7135b84e37e"
      },
      "execution_count": null,
      "outputs": [
        {
          "output_type": "stream",
          "name": "stdout",
          "text": [
            "taille du tableau  : 2\n",
            "Entrez un chiffre: 3\n",
            "Entrez un chiffre: 89\n",
            "moyennne de : 46.0 plus grande valeur :89\n"
          ]
        }
      ]
    },
    {
      "cell_type": "markdown",
      "source": [
        "Exo 2.7"
      ],
      "metadata": {
        "id": "9yC9cm9ECczL"
      }
    },
    {
      "cell_type": "code",
      "source": [
        "v1 = [5, 8]\n",
        "v2 = [3, 6]\n",
        "\n",
        "\n",
        "res = []\n",
        "\n",
        "for i in range(2):\n",
        "    num = v1[i] * v2[i]\n",
        "    res.append(num)\n",
        "\n",
        "print(res)"
      ],
      "metadata": {
        "colab": {
          "base_uri": "https://localhost:8080/"
        },
        "id": "eRJY7Omo76dC",
        "outputId": "c54a1391-e2b6-410d-ea28-97f3b314e6a5"
      },
      "execution_count": null,
      "outputs": [
        {
          "output_type": "stream",
          "name": "stdout",
          "text": [
            "[15, 48]\n"
          ]
        }
      ]
    },
    {
      "cell_type": "markdown",
      "source": [
        "EXO 2.8"
      ],
      "metadata": {
        "id": "8QpHpOw3H9hh"
      }
    },
    {
      "cell_type": "code",
      "source": [
        "tab=[]\n",
        "nb1=int(input('taille du tableau  : '))\n",
        "for i in range(nb1):\n",
        "    nb=int(input('Entrez un chiffre: '))\n",
        "    tab.append(nb)\n",
        "        \n",
        "# print(nums)\n",
        "print(tab)\n",
        "tab.sort()\n",
        "print(\"tableau trié : \" +str(tab))  "
      ],
      "metadata": {
        "colab": {
          "base_uri": "https://localhost:8080/"
        },
        "id": "2UCao8tiH_ff",
        "outputId": "b3cd4e7d-239d-4eb4-d37a-a8dc2bc10cbe"
      },
      "execution_count": null,
      "outputs": [
        {
          "output_type": "stream",
          "name": "stdout",
          "text": [
            "taille du tableau  : 3\n",
            "Entrez un chiffre: 8\n",
            "Entrez un chiffre: 3\n",
            "Entrez un chiffre: 90\n",
            "[8, 3, 90]\n",
            "tableau trié:[3, 8, 90]\n"
          ]
        }
      ]
    },
    {
      "cell_type": "markdown",
      "source": [
        "EXO 2.9"
      ],
      "metadata": {
        "id": "FCU_RcupJ0T7"
      }
    },
    {
      "cell_type": "code",
      "source": [
        "n = int(input(\"Entrez un nombre : \"))\n",
        "fact = 1\n",
        "\n",
        "for i in range(1,n+1):\n",
        "    fact = fact * i\n",
        "\n",
        "print(\"La  factorielle de \" + str(n) + \" est = \"+ str(fact))"
      ],
      "metadata": {
        "colab": {
          "base_uri": "https://localhost:8080/"
        },
        "id": "nQRi_B35J1d8",
        "outputId": "3ef10318-6b50-4a36-fdee-da41424f01cc"
      },
      "execution_count": null,
      "outputs": [
        {
          "output_type": "stream",
          "name": "stdout",
          "text": [
            "Entrez un nombre : 4\n",
            "La  factorielle de 4 est = 24\n"
          ]
        }
      ]
    },
    {
      "cell_type": "markdown",
      "source": [
        "EXO 2.10"
      ],
      "metadata": {
        "id": "Wrq6XjrjOO26"
      }
    },
    {
      "cell_type": "code",
      "source": [
        "m1=[[2,4],[6,8]]\n",
        "m2=[[4,8],[7,1]]\n",
        "nb1=int(input('Entrez indice i: '))-1\n",
        "nb2=int(input('Entrez indice j: '))-1\n",
        "# for m,n in m1,m2:\n",
        "\n",
        "print(m1[nb1][nb2])\n",
        "print(m2[nb1][nb2])\n",
        "   \n",
        "\n",
        "\n"
      ],
      "metadata": {
        "id": "fMP5gW9nOR5e",
        "colab": {
          "base_uri": "https://localhost:8080/"
        },
        "outputId": "0ee65708-70fb-401d-c95b-6881a9d9efca"
      },
      "execution_count": 28,
      "outputs": [
        {
          "output_type": "stream",
          "name": "stdout",
          "text": [
            "Entrez indice i: 2\n",
            "Entrez indice j: 1\n",
            "6\n",
            "7\n"
          ]
        }
      ]
    },
    {
      "cell_type": "markdown",
      "source": [
        "somme de suite non adjacent:"
      ],
      "metadata": {
        "id": "obpmdctkAvay"
      }
    },
    {
      "cell_type": "code",
      "source": [
        "tab1=[7,10,12,7,9,14]\n",
        "\n",
        "def Somme_Max(tab1):\n",
        "  tab2=[]\n",
        "  tab2.append(tab1[0])\n",
        "  if tab2[0]<tab1[1]:\n",
        "    tab2.append(tab1[1])\n",
        "  else :\n",
        "    tab2[1]=tab2[0]\n",
        "\n",
        "  for i in range(2,len(tab1)):\n",
        "    if tab1[i]+tab2[i-2]> tab2[i-1]:\n",
        "        tab2.append(tab1[i]+tab2[i-2])\n",
        "\n",
        "    else:\n",
        "      tab2.append(tab2[i-1])\n",
        "  return(tab2)\n",
        "print(\"Le tableau : \" +str(Somme_Max(tab1)))\n",
        "\n",
        "print(\"Le max est :\"+str(max(Somme_Max(tab1))))\n",
        "  "
      ],
      "metadata": {
        "colab": {
          "base_uri": "https://localhost:8080/"
        },
        "id": "yMgQKRIoAzEl",
        "outputId": "82cb4ea3-c893-41a8-faaa-ef1d5b36d2ac"
      },
      "execution_count": 11,
      "outputs": [
        {
          "output_type": "stream",
          "name": "stdout",
          "text": [
            "Le tableau : [7, 10, 19, 19, 28, 33]\n",
            "Le max est :33\n"
          ]
        }
      ]
    }
  ]
}